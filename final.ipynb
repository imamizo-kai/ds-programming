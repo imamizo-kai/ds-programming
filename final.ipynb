{
 "cells": [
  {
   "cell_type": "code",
   "execution_count": 2,
   "metadata": {},
   "outputs": [
    {
     "name": "stdout",
     "output_type": "stream",
     "text": [
      "/Users/imamizokai/final_dspro/ds-programming\n"
     ]
    }
   ],
   "source": [
    "import sqlite3\n",
    "!pwd"
   ]
  },
  {
   "cell_type": "code",
   "execution_count": 4,
   "metadata": {},
   "outputs": [],
   "source": [
    "# ds_programing_final\n",
    "path = '/Users/imamizokai/final_dspro/ds-programming'\n",
    "\n",
    "#DB file name\n",
    "db_name = 'final.sqlite'\n",
    "\n",
    "con = sqlite3.connect(path + db_name)\n",
    "#db close\n",
    "con.close()"
   ]
  },
  {
   "cell_type": "code",
   "execution_count": 6,
   "metadata": {},
   "outputs": [],
   "source": [
    "#connect to\n",
    "con = sqlite3.connect(path + db_name)\n",
    "\n",
    "#get object\n",
    "cur = con.cursor()\n",
    "\n",
    "#make table\n",
    "create_table = 'CREATE TABLE baseball(name text, average int);'\n",
    "\n",
    "#execute\n",
    "cur.execute(create_table)\n",
    "\n",
    "#commit prosessing\n",
    "con.commit()\n",
    "\n",
    "con.close()"
   ]
  },
  {
   "cell_type": "code",
   "execution_count": 7,
   "metadata": {},
   "outputs": [],
   "source": [
    "#connect to\n",
    "con = sqlite3.connect(path + db_name)\n",
    "\n",
    "#get object\n",
    "cur = con.cursor()\n",
    "\n",
    "#make table\n",
    "create = 'CREATE TABLE my(average int);'\n",
    "\n",
    "#execute\n",
    "cur.execute(create)\n",
    "\n",
    "#commit prosessing\n",
    "con.commit()\n",
    "\n",
    "#db close\n",
    "con.close()"
   ]
  },
  {
   "cell_type": "code",
   "execution_count": 8,
   "metadata": {},
   "outputs": [],
   "source": [
    "#connect to\n",
    "con = sqlite3.connect(path + db_name)\n",
    "\n",
    "#get object\n",
    "cur = con.cursor()\n",
    "\n",
    "#insert into \n",
    "insert_many = 'INSERT INTO baseball VALUES (?, ?);'\n",
    "\n",
    "#prepare a list\n",
    "average_list = [] \n",
    "\n",
    "#execute\n",
    "cur.executemany(insert_many, average_list)\n",
    "\n",
    "#commit prosessing\n",
    "con.commit()\n",
    "\n",
    "#db close\n",
    "con.close()\n"
   ]
  }
 ],
 "metadata": {
  "kernelspec": {
   "display_name": "Python 3",
   "language": "python",
   "name": "python3"
  },
  "language_info": {
   "codemirror_mode": {
    "name": "ipython",
    "version": 3
   },
   "file_extension": ".py",
   "mimetype": "text/x-python",
   "name": "python",
   "nbconvert_exporter": "python",
   "pygments_lexer": "ipython3",
   "version": "3.9.6"
  }
 },
 "nbformat": 4,
 "nbformat_minor": 2
}
